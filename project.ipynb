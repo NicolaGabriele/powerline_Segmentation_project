{
  "cells": [
    {
      "cell_type": "markdown",
      "metadata": {
        "id": "view-in-github",
        "colab_type": "text"
      },
      "source": [
        "<a href=\"https://colab.research.google.com/github/NicolaGabriele/powerline_Segmentation_project/blob/main/project.ipynb\" target=\"_parent\"><img src=\"https://colab.research.google.com/assets/colab-badge.svg\" alt=\"Open In Colab\"/></a>"
      ]
    },
    {
      "cell_type": "markdown",
      "metadata": {
        "id": "uPlvi52C5hXx"
      },
      "source": [
        "#**IMPORT DELLE LIBRERIE E CARICAMENTO DEL DATASET**\n"
      ]
    },
    {
      "cell_type": "code",
      "execution_count": 60,
      "metadata": {
        "colab": {
          "base_uri": "https://localhost:8080/"
        },
        "id": "MK1cN188lTCY",
        "outputId": "24e55256-6986-41ee-8ac3-86d66b599f64"
      },
      "outputs": [
        {
          "output_type": "stream",
          "name": "stdout",
          "text": [
            "Mounted at /content/drive\n"
          ]
        }
      ],
      "source": [
        "from google.colab import drive\n",
        "drive.mount('/content/drive',force_remount=True)"
      ]
    },
    {
      "cell_type": "code",
      "execution_count": 74,
      "metadata": {
        "id": "k5I2awhKlnZ6"
      },
      "outputs": [],
      "source": [
        "import torch\n",
        "import torch.nn as nn\n",
        "import torch.nn.functional as F\n",
        "import torchvision\n",
        "from torchvision.tv_tensors import BoundingBoxes, BoundingBoxFormat, Mask\n",
        "import os\n",
        "import numpy as np\n",
        "import matplotlib.pyplot as plt\n",
        "import matplotlib\n",
        "import json\n",
        "import random\n",
        "import pycocotools\n",
        "from pycocotools import mask\n",
        "from torchvision.models.detection.faster_rcnn import FastRCNNPredictor\n",
        "from torchvision.models.detection.mask_rcnn import MaskRCNNPredictor\n",
        "from torch.autograd import Variable\n",
        "TRAIN_DIR = '/content/drive/MyDrive/trainingset'#'C:\\\\Users\\\\Nicola\\\\Documents\\\\GitHub\\\\powerline_Segmentation_project\\\\trainingset'#\n",
        "TEST_DIR = '/content/drive/MyDrive/testset'#'C:\\\\Users\\\\Nicola\\\\Documents\\\\GitHub\\\\powerline_Segmentation_project\\\\testset'#\n",
        "TRAIN_LABELS = '/content/drive/MyDrive/train.json'#'C:\\\\Users\\\\Nicola\\\\Documents\\\\GitHub\\\\powerline_Segmentation_project\\\\train.json'#\n",
        "TEST_LABELS =  '/content/drive/MyDrive/test.json'#'C:\\\\Users\\\\Nicola\\\\Documents\\\\GitHub\\\\powerline_Segmentation_project\\\\test.json'\n",
        "IM_WIDTH = 700\n",
        "IM_HEIGHT = 700\n",
        "device = 'cuda' if torch.cuda.is_available() else 'cpu'"
      ]
    },
    {
      "cell_type": "code",
      "execution_count": 75,
      "metadata": {
        "id": "E-B8GMC3lrq6"
      },
      "outputs": [],
      "source": [
        "def groupByImageId(jsonfile):\n",
        "  data = jsonfile['annotations']\n",
        "  labs = {}\n",
        "  for k in data:\n",
        "    if k['image_id'] in labs:\n",
        "      labs[k['image_id']].append(k)\n",
        "    else:\n",
        "      labs[k['image_id']] = [k]\n",
        "  return labs"
      ]
    },
    {
      "cell_type": "code",
      "execution_count": 76,
      "metadata": {
        "id": "X56SZK7Yl7u4"
      },
      "outputs": [],
      "source": [
        "def decodeSegmentationField(segmentation):\n",
        "  return mask.decode(mask.merge(mask.frPyObjects(segmentation,IM_WIDTH,IM_HEIGHT)))"
      ]
    },
    {
      "cell_type": "code",
      "execution_count": 77,
      "metadata": {
        "id": "cXTtmxRltmm4"
      },
      "outputs": [],
      "source": [
        "def formatLabels(labels):\n",
        "  bbox = []\n",
        "  seg = []\n",
        "  cls = []\n",
        "  i = 0\n",
        "  for label in labels:\n",
        "    seg.append(decodeSegmentationField(label['segmentation']))\n",
        "    b = label['bbox']\n",
        "    box = [b[0],b[1],b[0]+b[2], b[1]+b[3]]\n",
        "    if(box[2]-box[0] <= 0):\n",
        "      box[2]+=1\n",
        "    if(box[3]-box[1] <= 0):\n",
        "      box[3]+=1\n",
        "    bbox.append(box)\n",
        "    i+=1\n",
        "    cls.append(label['category_id']+1)\n",
        "  return  {\n",
        "      'boxes': torchvision.tv_tensors.BoundingBoxes(data=np.array(bbox),format = BoundingBoxFormat.XYXY, canvas_size=(IM_WIDTH, IM_HEIGHT)),\n",
        "      'labels': torch.tensor(cls, dtype = torch.int64),\n",
        "      'image_id': label['image_id'],\n",
        "      'area': torch.tensor(label['area'], dtype=torch.float64),\n",
        "      'iscrowd': torch.tensor(label['iscrowd'], dtype=torch.uint8),\n",
        "      'masks': Mask(seg)\n",
        "  }"
      ]
    },
    {
      "cell_type": "code",
      "execution_count": 78,
      "metadata": {
        "id": "ndYpml_vlw8E"
      },
      "outputs": [],
      "source": [
        "class PowerLineDataset(torch.utils.data.Dataset):\n",
        "  def __init__(self,img_dir,img_labels):\n",
        "    self.img_dir = img_dir\n",
        "    self.img_labels = json.load(open(img_labels))\n",
        "    self.categories = {} #lista delle etichette di classe\n",
        "    for c in self.img_labels['categories']:\n",
        "      self.categories[c['name']] = c['id']+1 #incrementiamo di uno per distinguere la background class\n",
        "\n",
        "  def __getitem__(self,idx):\n",
        "    img_path = os.path.join(self.img_dir, self.img_labels['images'][idx]['file_name'])\n",
        "    label = groupByImageId(self.img_labels)[idx]\n",
        "    image = (torchvision.io.read_image(img_path)/255)\n",
        "    #tra = torchvision.transforms.Resize((700,700))\n",
        "    return (image,formatLabels(label))\n",
        "  def __len__(self):\n",
        "    return len(os.listdir(self.img_dir))\n"
      ]
    },
    {
      "cell_type": "code",
      "execution_count": 79,
      "metadata": {
        "id": "nPavYFFXl2FS"
      },
      "outputs": [],
      "source": [
        "#caricamento dei dataset di train e di test\n",
        "trainset = PowerLineDataset(TRAIN_DIR, TRAIN_LABELS)\n",
        "test = PowerLineDataset(TEST_DIR, TEST_LABELS)"
      ]
    },
    {
      "cell_type": "markdown",
      "source": [
        "#***MODIFICA DELLA MASK R-CNN***"
      ],
      "metadata": {
        "id": "-aoGnXVGoNGP"
      }
    },
    {
      "cell_type": "code",
      "source": [
        "from torchvision.models.detection.backbone_utils import _resnet_fpn_extractor, _validate_trainable_layers\n",
        "from torchvision.models.detection.faster_rcnn import _default_anchorgen, FasterRCNN, FastRCNNConvFCHead, RPNHead\n",
        "from torchvision.models.detection.mask_rcnn import MaskRCNNHeads\n",
        "class PoweredMRCNN(nn.Module):\n",
        "  def __init__(self, numclasses):\n",
        "    super(PoweredMRCNN,self).__init__()\n",
        "    self.numclasses = numclasses\n",
        "    self.backbone = torch.hub.load('pytorch/vision:v0.10.0', 'resne50', pretrained=True)\n",
        "    self.bbox_back = torch.hub.load('pytorch/vision:v0.10.0', 'resnet50', pretrained=True)\n",
        "    self.seg_back = torch.hub.load('pytorch/vision:v0.10.0', 'resnet50', pretrained=True)\n",
        "    self.backbone = _resnet_fpn_extractor(self.backbone, norm_layer=nn.BatchNorm2d,trainable_layers=3)\n",
        "    rpn_anchor_generator = _default_anchorgen()\n",
        "    rpn_head = RPNHead(self.backbone.out_channels, rpn_anchor_generator.num_anchors_per_location()[0], conv_depth=2)\n",
        "    box_head = FastRCNNConvFCHead(\n",
        "        (self.bbox_back.out_channels, 7, 7), [256, 256, 256, 256], [1024], norm_layer=nn.BatchNorm2d\n",
        "    )\n",
        "    mask_head = MaskRCNNHeads(self.seg_back.out_channels, [256, 256, 256, 256], 1, norm_layer=nn.BatchNorm2d)\n",
        "\n",
        "  def forward(self,x):\n",
        "    x = self.backbone(x)\n",
        "    bbox_out = self.bbox_back(x)\n",
        "    rpn_out = self.rpn_head(x)\n",
        "    seg_out = self.seg_back(x)\n",
        "    bbox_out = self.box_head(bbox_out)\n",
        "    seg_out = self.mask_head(seg_out)\n",
        "    return {'boxes': bbox_out, 'scores':rpn_out, 'masks':seg_out}\n"
      ],
      "metadata": {
        "id": "uqhis7nJoUmu"
      },
      "execution_count": 33,
      "outputs": []
    },
    {
      "cell_type": "code",
      "source": [
        "m = PoweredMRCNN(4)"
      ],
      "metadata": {
        "id": "ynjSw6tfqHeH",
        "outputId": "181cbc1f-06ff-4e52-e927-7e88ca51e09b",
        "colab": {
          "base_uri": "https://localhost:8080/",
          "height": 585
        }
      },
      "execution_count": null,
      "outputs": [
        {
          "output_type": "stream",
          "name": "stderr",
          "text": [
            "Using cache found in /root/.cache/torch/hub/pytorch_vision_v0.10.0\n",
            "/usr/local/lib/python3.10/dist-packages/torchvision/models/_utils.py:208: UserWarning: The parameter 'pretrained' is deprecated since 0.13 and may be removed in the future, please use 'weights' instead.\n",
            "  warnings.warn(\n",
            "/usr/local/lib/python3.10/dist-packages/torchvision/models/_utils.py:223: UserWarning: Arguments other than a weight enum or `None` for 'weights' are deprecated since 0.13 and may be removed in the future. The current behavior is equivalent to passing `weights=ResNet152_Weights.IMAGENET1K_V1`. You can also use `weights=ResNet152_Weights.DEFAULT` to get the most up-to-date weights.\n",
            "  warnings.warn(msg)\n",
            "Using cache found in /root/.cache/torch/hub/pytorch_vision_v0.10.0\n",
            "Using cache found in /root/.cache/torch/hub/pytorch_vision_v0.10.0\n"
          ]
        },
        {
          "output_type": "error",
          "ename": "AttributeError",
          "evalue": "ignored",
          "traceback": [
            "\u001b[0;31m---------------------------------------------------------------------------\u001b[0m",
            "\u001b[0;31mAttributeError\u001b[0m                            Traceback (most recent call last)",
            "\u001b[0;32m<ipython-input-13-f1e2756d3c65>\u001b[0m in \u001b[0;36m<cell line: 1>\u001b[0;34m()\u001b[0m\n\u001b[0;32m----> 1\u001b[0;31m \u001b[0mm\u001b[0m \u001b[0;34m=\u001b[0m \u001b[0mPoweredMRCNN\u001b[0m\u001b[0;34m(\u001b[0m\u001b[0;36m4\u001b[0m\u001b[0;34m)\u001b[0m\u001b[0;34m\u001b[0m\u001b[0;34m\u001b[0m\u001b[0m\n\u001b[0m",
            "\u001b[0;32m<ipython-input-12-6d5b4e8ea689>\u001b[0m in \u001b[0;36m__init__\u001b[0;34m(self, numclasses)\u001b[0m\n\u001b[1;32m     13\u001b[0m     \u001b[0mrpn_head\u001b[0m \u001b[0;34m=\u001b[0m \u001b[0mRPNHead\u001b[0m\u001b[0;34m(\u001b[0m\u001b[0mself\u001b[0m\u001b[0;34m.\u001b[0m\u001b[0mbackbone\u001b[0m\u001b[0;34m.\u001b[0m\u001b[0mout_channels\u001b[0m\u001b[0;34m,\u001b[0m \u001b[0mrpn_anchor_generator\u001b[0m\u001b[0;34m.\u001b[0m\u001b[0mnum_anchors_per_location\u001b[0m\u001b[0;34m(\u001b[0m\u001b[0;34m)\u001b[0m\u001b[0;34m[\u001b[0m\u001b[0;36m0\u001b[0m\u001b[0;34m]\u001b[0m\u001b[0;34m,\u001b[0m \u001b[0mconv_depth\u001b[0m\u001b[0;34m=\u001b[0m\u001b[0;36m2\u001b[0m\u001b[0;34m)\u001b[0m\u001b[0;34m\u001b[0m\u001b[0;34m\u001b[0m\u001b[0m\n\u001b[1;32m     14\u001b[0m     box_head = FastRCNNConvFCHead(\n\u001b[0;32m---> 15\u001b[0;31m         \u001b[0;34m(\u001b[0m\u001b[0mself\u001b[0m\u001b[0;34m.\u001b[0m\u001b[0mbbox_back\u001b[0m\u001b[0;34m.\u001b[0m\u001b[0mout_channels\u001b[0m\u001b[0;34m,\u001b[0m \u001b[0;36m7\u001b[0m\u001b[0;34m,\u001b[0m \u001b[0;36m7\u001b[0m\u001b[0;34m)\u001b[0m\u001b[0;34m,\u001b[0m \u001b[0;34m[\u001b[0m\u001b[0;36m256\u001b[0m\u001b[0;34m,\u001b[0m \u001b[0;36m256\u001b[0m\u001b[0;34m,\u001b[0m \u001b[0;36m256\u001b[0m\u001b[0;34m,\u001b[0m \u001b[0;36m256\u001b[0m\u001b[0;34m]\u001b[0m\u001b[0;34m,\u001b[0m \u001b[0;34m[\u001b[0m\u001b[0;36m1024\u001b[0m\u001b[0;34m]\u001b[0m\u001b[0;34m,\u001b[0m \u001b[0mnorm_layer\u001b[0m\u001b[0;34m=\u001b[0m\u001b[0mnn\u001b[0m\u001b[0;34m.\u001b[0m\u001b[0mBatchNorm2d\u001b[0m\u001b[0;34m\u001b[0m\u001b[0;34m\u001b[0m\u001b[0m\n\u001b[0m\u001b[1;32m     16\u001b[0m     )\n\u001b[1;32m     17\u001b[0m     \u001b[0mmask_head\u001b[0m \u001b[0;34m=\u001b[0m \u001b[0mMaskRCNNHeads\u001b[0m\u001b[0;34m(\u001b[0m\u001b[0mself\u001b[0m\u001b[0;34m.\u001b[0m\u001b[0mseg_back\u001b[0m\u001b[0;34m.\u001b[0m\u001b[0mout_channels\u001b[0m\u001b[0;34m,\u001b[0m \u001b[0;34m[\u001b[0m\u001b[0;36m256\u001b[0m\u001b[0;34m,\u001b[0m \u001b[0;36m256\u001b[0m\u001b[0;34m,\u001b[0m \u001b[0;36m256\u001b[0m\u001b[0;34m,\u001b[0m \u001b[0;36m256\u001b[0m\u001b[0;34m]\u001b[0m\u001b[0;34m,\u001b[0m \u001b[0;36m1\u001b[0m\u001b[0;34m,\u001b[0m \u001b[0mnorm_layer\u001b[0m\u001b[0;34m=\u001b[0m\u001b[0mnn\u001b[0m\u001b[0;34m.\u001b[0m\u001b[0mBatchNorm2d\u001b[0m\u001b[0;34m)\u001b[0m\u001b[0;34m\u001b[0m\u001b[0;34m\u001b[0m\u001b[0m\n",
            "\u001b[0;32m/usr/local/lib/python3.10/dist-packages/torch/nn/modules/module.py\u001b[0m in \u001b[0;36m__getattr__\u001b[0;34m(self, name)\u001b[0m\n\u001b[1;32m   1693\u001b[0m             \u001b[0;32mif\u001b[0m \u001b[0mname\u001b[0m \u001b[0;32min\u001b[0m \u001b[0mmodules\u001b[0m\u001b[0;34m:\u001b[0m\u001b[0;34m\u001b[0m\u001b[0;34m\u001b[0m\u001b[0m\n\u001b[1;32m   1694\u001b[0m                 \u001b[0;32mreturn\u001b[0m \u001b[0mmodules\u001b[0m\u001b[0;34m[\u001b[0m\u001b[0mname\u001b[0m\u001b[0;34m]\u001b[0m\u001b[0;34m\u001b[0m\u001b[0;34m\u001b[0m\u001b[0m\n\u001b[0;32m-> 1695\u001b[0;31m         \u001b[0;32mraise\u001b[0m \u001b[0mAttributeError\u001b[0m\u001b[0;34m(\u001b[0m\u001b[0;34mf\"'{type(self).__name__}' object has no attribute '{name}'\"\u001b[0m\u001b[0;34m)\u001b[0m\u001b[0;34m\u001b[0m\u001b[0;34m\u001b[0m\u001b[0m\n\u001b[0m\u001b[1;32m   1696\u001b[0m \u001b[0;34m\u001b[0m\u001b[0m\n\u001b[1;32m   1697\u001b[0m     \u001b[0;32mdef\u001b[0m \u001b[0m__setattr__\u001b[0m\u001b[0;34m(\u001b[0m\u001b[0mself\u001b[0m\u001b[0;34m,\u001b[0m \u001b[0mname\u001b[0m\u001b[0;34m:\u001b[0m \u001b[0mstr\u001b[0m\u001b[0;34m,\u001b[0m \u001b[0mvalue\u001b[0m\u001b[0;34m:\u001b[0m \u001b[0mUnion\u001b[0m\u001b[0;34m[\u001b[0m\u001b[0mTensor\u001b[0m\u001b[0;34m,\u001b[0m \u001b[0;34m'Module'\u001b[0m\u001b[0;34m]\u001b[0m\u001b[0;34m)\u001b[0m \u001b[0;34m->\u001b[0m \u001b[0;32mNone\u001b[0m\u001b[0;34m:\u001b[0m\u001b[0;34m\u001b[0m\u001b[0;34m\u001b[0m\u001b[0m\n",
            "\u001b[0;31mAttributeError\u001b[0m: 'ResNet' object has no attribute 'out_channels'"
          ]
        }
      ]
    },
    {
      "cell_type": "markdown",
      "metadata": {
        "id": "fOUlmpO07mta"
      },
      "source": [
        "#**LOSS FUNCTIONS**"
      ]
    },
    {
      "cell_type": "code",
      "execution_count": null,
      "metadata": {
        "id": "gBLzLAje8GPd"
      },
      "outputs": [],
      "source": [
        "class CustomLossFunction(nn.Module):\n",
        "  def __init__(self, cls_loss, bb_loss, seg_loss, cls_weight, bb_weight, seg_weight):\n",
        "    super(CustomLossFunction, self).__init__()\n",
        "    self.cls_loss = cls_loss\n",
        "    self.bb_loss = bb_loss\n",
        "    self.seg_loss = seg_loss\n",
        "    self.cls_weight = cls_weight\n",
        "    self.bb_weight = bb_weight\n",
        "    self.seg_weight = seg_weight\n",
        "  def forward(self,predictions, targets):\n",
        "    prediction = predictions[0]\n",
        "    formatted_targets = formatLabels(targets)\n",
        "    #loss di classificazione\n",
        "    #scores di classificazione: uno per ogni oggetto predetto\n",
        "    targets_cls = formatted_targets['labels']\n",
        "    pred_cls = prediction['scores']\n",
        "    loss_cls = self.cls_loss(pred_cls,targets_cls)\n",
        "    #loss di bbox\n",
        "    targets_bbox = formatted_targets['boxes']\n",
        "    pred_bbox = prediction['boxes']\n",
        "    loss_bbox = self.bb_loss(pred_bbox,targets_bbox)\n",
        "    #loss per le maschere: sigmoide su tutti i pixel e poi cross entropy\n",
        "    targets_masks = formatted_targets['masks']\n",
        "    pred_masks = prediction['masks']\n",
        "    loss_masks = self.seg_loss(pred_masks,targets_masks)\n",
        "\n",
        "    return self.cls_weight*loss_cls + self.bb_weight*loss_bbox + self.seg_weight*loss_masks"
      ]
    },
    {
      "cell_type": "markdown",
      "metadata": {
        "id": "1xqBHACL7Pmb"
      },
      "source": [
        "#**TEST DI UN MODELLO PREADDESTRATO: MASK R-CNN**"
      ]
    },
    {
      "cell_type": "markdown",
      "source": [
        "##***CARICAMENTO DEL MODELLO***"
      ],
      "metadata": {
        "id": "XSRsKSmlZNwI"
      }
    },
    {
      "cell_type": "code",
      "execution_count": null,
      "metadata": {
        "id": "KbbHfR2pTSNJ",
        "outputId": "37266217-5288-4ab1-ce35-7d5da301ca33",
        "colab": {
          "base_uri": "https://localhost:8080/"
        }
      },
      "outputs": [
        {
          "output_type": "stream",
          "name": "stderr",
          "text": [
            "/usr/local/lib/python3.10/dist-packages/torchvision/models/_utils.py:223: UserWarning: Arguments other than a weight enum or `None` for 'weights' are deprecated since 0.13 and may be removed in the future. The current behavior is equivalent to passing `weights=MaskRCNN_ResNet50_FPN_V2_Weights.COCO_V1`. You can also use `weights=MaskRCNN_ResNet50_FPN_V2_Weights.DEFAULT` to get the most up-to-date weights.\n",
            "  warnings.warn(msg)\n"
          ]
        }
      ],
      "source": [
        "model = torchvision.models.detection.maskrcnn_resnet50_fpn_v2(weights=torchvision.models.detection.MaskRCNN_ResNet50_FPN_V2_Weights)"
      ]
    },
    {
      "cell_type": "code",
      "execution_count": null,
      "metadata": {
        "id": "EKT2pH78mXeD"
      },
      "outputs": [],
      "source": [
        "in_features_box = model.roi_heads.box_predictor.cls_score.in_features\n",
        "in_features_mask = model.roi_heads.mask_predictor.conv5_mask.in_channels\n",
        "\n",
        "# Get the numbner of output channels for the Mask Predictor\n",
        "dim_reduced = model.roi_heads.mask_predictor.conv5_mask.out_channels\n",
        "\n",
        "# Replace the box predictor\n",
        "model.roi_heads.box_predictor = FastRCNNPredictor(in_channels=in_features_box, num_classes=5)\n",
        "\n",
        "# Replace the mask predictor\n",
        "#model.roi_heads.mask_predictor = MaskRCNNPredictor(in_channels=in_features_mask, dim_reduced=dim_reduced, num_classes=4)"
      ]
    },
    {
      "cell_type": "code",
      "source": [
        "def targetsToDevice(targets, device):\n",
        "  return [{\n",
        "      'boxes': target['boxes'].to(device),\n",
        "      'labels': target['labels'].to(device),\n",
        "      'image_id': target['image_id'],\n",
        "      'area': target['area'].to(device),\n",
        "      'iscrowd':target['boxes'].to(device),\n",
        "      'masks': target['masks'].to(device)\n",
        "  } for target in targets]"
      ],
      "metadata": {
        "id": "AbrELN4JUgHG"
      },
      "execution_count": 80,
      "outputs": []
    },
    {
      "cell_type": "code",
      "source": [
        "torch.cuda.empty_cache()\n",
        "model = torch.load('/content/drive/MyDrive/maskrcnn_37ep')\n",
        "#model.to(device)"
      ],
      "metadata": {
        "id": "hzlPVQuNJPj9"
      },
      "execution_count": 81,
      "outputs": []
    },
    {
      "cell_type": "markdown",
      "source": [
        "##***MODEL TRAINING***"
      ],
      "metadata": {
        "id": "lqSwBLxUZcb4"
      }
    },
    {
      "cell_type": "code",
      "execution_count": 82,
      "metadata": {
        "id": "y0rl6FXEQ3t2"
      },
      "outputs": [],
      "source": [
        "def collate_fn(batch):\n",
        "    return tuple(zip(*batch))"
      ]
    },
    {
      "cell_type": "code",
      "execution_count": 11,
      "metadata": {
        "id": "3S6gc70uUA9U"
      },
      "outputs": [],
      "source": [
        "model.train()\n",
        "#model.to(device)\n",
        "#predictions = model([trainset[3][0]], [formatLabels(trainset[3][1])])\n",
        "learning_rate = 1e-5\n",
        "optimizer = torch.optim.AdamW(model.parameters(), lr=learning_rate)\n",
        "batch_size = 4\n",
        "trains = torch.utils.data.DataLoader(trainset, batch_size = batch_size, shuffle=True,collate_fn= collate_fn)\n",
        "total_step = len(trains)\n",
        "\n",
        "num_epochs = 50\n",
        "\n",
        "train_losses = []\n",
        "train_counter = []\n",
        "test_losses = []\n",
        "test_counter = [i*len(trains) for i in range(num_epochs + 1)]\n",
        "\n",
        "\n",
        "def train(epoch,model,optimizer):\n",
        "    for batch_idx, (images, targets) in enumerate(trains):\n",
        "        # Move tensors to the configured device\n",
        "        #if reshape:\n",
        "         #   images = images.reshape(-1, 28*28)\n",
        "        #images = images.to('cuda')\n",
        "        #labels = labels.to('cuda')\n",
        "        images = [image.to(device) for image in images]\n",
        "        targets = targetsToDevice(targets,device)\n",
        "        # Forward pass\n",
        "        optimizer.zero_grad()\n",
        "        loss_dict = model(images, targets)\n",
        "        losses = sum(loss for loss in loss_dict.values())\n",
        "\n",
        "        #backward pass\n",
        "        losses.backward()\n",
        "        optimizer.step()\n",
        "        torch.cuda.empty_cache()\n",
        "        if (batch_idx+1) % 1 == 0:\n",
        "            print ('Epoch [{}/{}], Step [{}/{}], Loss: {:.4f}'\n",
        "                   .format(epoch, num_epochs, batch_idx+1, total_step, losses))\n",
        "\n",
        "        train_losses.append(losses)\n",
        "        train_counter.append(\n",
        "        (batch_idx*batch_size) + ((epoch-1)*len(trains)))"
      ]
    },
    {
      "cell_type": "code",
      "execution_count": null,
      "metadata": {
        "id": "4_49YhcOc4GQ"
      },
      "outputs": [],
      "source": [
        "for epoch in range(37,num_epochs+1):\n",
        "  train(epoch=epoch, model = model, optimizer = optimizer)\n",
        "  torch.save(model, '/content/drive/MyDrive/maskrcnn_{}ep'.format(epoch))"
      ]
    },
    {
      "cell_type": "markdown",
      "source": [
        "##***MODEL EVALUATION***"
      ],
      "metadata": {
        "id": "IvuW_7WvZoKv"
      }
    },
    {
      "cell_type": "code",
      "source": [
        "#GENERAZIONE DEL FILE JSON IN FORMATO COCO\n",
        "#costruisco il dataloader per il test set\n",
        "model.eval()\n",
        "batch_size = 1\n",
        "testloader = torch.utils.data.DataLoader(test, batch_size = batch_size, shuffle = False, collate_fn = collate_fn)\n",
        "\n",
        "results = []\n",
        "j = 0\n",
        "for idx, (images, targets) in enumerate(testloader):\n",
        "\n",
        "  prediction = model([image.to(device) for image in images])[0]\n",
        "  classes = prediction['labels'].cpu().numpy()\n",
        "  scores = prediction['scores'].cpu().detach().numpy()\n",
        "  boxes = prediction['boxes'].view(-1,4).cpu().detach().numpy()\n",
        "  masks = prediction['masks'].view(-1,IM_HEIGHT,IM_WIDTH).cpu().detach()\n",
        "  masks = torch.where(masks>0.5,1,0).numpy()\n",
        "  #controllare shape\n",
        "  for i in range(masks.shape[0]):\n",
        "    image_id = targets[0]['image_id']\n",
        "    bbox = [boxes[i][0],boxes[i][1],boxes[i][2]-boxes[i][0],boxes[i][3]-boxes[i][1]]\n",
        "    bbox = [round(float(x)*10)/10 for x in bbox]\n",
        "    rle = pycocotools.mask.encode(np.asfortranarray(masks[i].astype(np.uint8)))\n",
        "    rle['counts'] = rle['counts'].decode('ascii')\n",
        "    j+=1\n",
        "    results.append({\n",
        "                'image_id': int(image_id),\n",
        "                'category_id': int(classes[i])-1,\n",
        "                'bbox': bbox,\n",
        "                'segm': rle,\n",
        "                'score': float(scores[i]),\n",
        "                'area': bbox[2]*bbox[3],\n",
        "                'height': IM_HEIGHT,\n",
        "                'width': IM_WIDTH,\n",
        "                'id':j\n",
        "            })\n",
        "\n",
        "  torch.cuda.empty_cache()\n",
        "with open('/content/drive/MyDrive/pred.json', 'w') as fp:\n",
        "    json.dump(results, fp)\n"
      ],
      "metadata": {
        "id": "pcU_FTQMZuRU"
      },
      "execution_count": 118,
      "outputs": []
    },
    {
      "cell_type": "code",
      "source": [
        "import json\n",
        "from pycocotools.coco import COCO\n",
        "from pycocotools.cocoeval import COCOeval\n",
        "test = '/content/drive/MyDrive/test.json'\n",
        "pred = '/content/drive/MyDrive/pred.json'\n",
        "gt = COCO(test)\n",
        "detections = gt.loadRes(pred)"
      ],
      "metadata": {
        "colab": {
          "base_uri": "https://localhost:8080/"
        },
        "id": "y659GJRZuQJ8",
        "outputId": "01f25625-6af2-43a6-dfe2-0c91254f8602"
      },
      "execution_count": 119,
      "outputs": [
        {
          "output_type": "stream",
          "name": "stdout",
          "text": [
            "loading annotations into memory...\n",
            "Done (t=0.07s)\n",
            "creating index...\n",
            "index created!\n",
            "Loading and preparing results...\n",
            "DONE (t=0.03s)\n",
            "creating index...\n",
            "index created!\n"
          ]
        }
      ]
    },
    {
      "cell_type": "code",
      "source": [
        "imgIds=sorted(gt.getImgIds())\n",
        "imgIds=imgIds[0:100]\n",
        "imgId = imgIds[np.random.randint(100)]"
      ],
      "metadata": {
        "id": "g2aDKr1wBw-L"
      },
      "execution_count": 120,
      "outputs": []
    },
    {
      "cell_type": "code",
      "source": [
        "annType = 'bbox'\n",
        "cocoEval = COCOeval(gt, detections, annType)\n",
        "cocoEval.params.imgIds = imgIds\n",
        "cocoEval.evaluate()\n",
        "cocoEval.accumulate()\n",
        "cocoEval.summarize()"
      ],
      "metadata": {
        "colab": {
          "base_uri": "https://localhost:8080/"
        },
        "id": "9L7Ij51vy6JQ",
        "outputId": "4a4e7691-af62-45ca-fd75-d9c4b7a1155b"
      },
      "execution_count": 121,
      "outputs": [
        {
          "output_type": "stream",
          "name": "stdout",
          "text": [
            "Running per image evaluation...\n",
            "Evaluate annotation type *bbox*\n",
            "DONE (t=0.36s).\n",
            "Accumulating evaluation results...\n",
            "DONE (t=0.05s).\n",
            " Average Precision  (AP) @[ IoU=0.50:0.95 | area=   all | maxDets=100 ] = 0.473\n",
            " Average Precision  (AP) @[ IoU=0.50      | area=   all | maxDets=100 ] = 0.689\n",
            " Average Precision  (AP) @[ IoU=0.75      | area=   all | maxDets=100 ] = 0.475\n",
            " Average Precision  (AP) @[ IoU=0.50:0.95 | area= small | maxDets=100 ] = 0.242\n",
            " Average Precision  (AP) @[ IoU=0.50:0.95 | area=medium | maxDets=100 ] = 0.416\n",
            " Average Precision  (AP) @[ IoU=0.50:0.95 | area= large | maxDets=100 ] = 0.563\n",
            " Average Recall     (AR) @[ IoU=0.50:0.95 | area=   all | maxDets=  1 ] = 0.376\n",
            " Average Recall     (AR) @[ IoU=0.50:0.95 | area=   all | maxDets= 10 ] = 0.533\n",
            " Average Recall     (AR) @[ IoU=0.50:0.95 | area=   all | maxDets=100 ] = 0.545\n",
            " Average Recall     (AR) @[ IoU=0.50:0.95 | area= small | maxDets=100 ] = 0.280\n",
            " Average Recall     (AR) @[ IoU=0.50:0.95 | area=medium | maxDets=100 ] = 0.487\n",
            " Average Recall     (AR) @[ IoU=0.50:0.95 | area= large | maxDets=100 ] = 0.726\n"
          ]
        }
      ]
    },
    {
      "cell_type": "code",
      "source": [
        "annType = 'segm'\n",
        "cocoEval = COCOeval(gt, detections, annType)\n",
        "cocoEval.params.imgIds  = imgIds\n",
        "cocoEval.evaluate()\n",
        "cocoEval.accumulate()\n",
        "cocoEval.summarize()"
      ],
      "metadata": {
        "colab": {
          "base_uri": "https://localhost:8080/"
        },
        "id": "7lnyI-JoBkNn",
        "outputId": "7fce8136-bfbb-450e-ebe7-19793e13cb79"
      },
      "execution_count": 122,
      "outputs": [
        {
          "output_type": "stream",
          "name": "stdout",
          "text": [
            "Running per image evaluation...\n",
            "Evaluate annotation type *segm*\n",
            "DONE (t=0.48s).\n",
            "Accumulating evaluation results...\n",
            "DONE (t=0.06s).\n",
            " Average Precision  (AP) @[ IoU=0.50:0.95 | area=   all | maxDets=100 ] = 0.015\n",
            " Average Precision  (AP) @[ IoU=0.50      | area=   all | maxDets=100 ] = 0.059\n",
            " Average Precision  (AP) @[ IoU=0.75      | area=   all | maxDets=100 ] = 0.001\n",
            " Average Precision  (AP) @[ IoU=0.50:0.95 | area= small | maxDets=100 ] = 0.000\n",
            " Average Precision  (AP) @[ IoU=0.50:0.95 | area=medium | maxDets=100 ] = 0.000\n",
            " Average Precision  (AP) @[ IoU=0.50:0.95 | area= large | maxDets=100 ] = 0.019\n",
            " Average Recall     (AR) @[ IoU=0.50:0.95 | area=   all | maxDets=  1 ] = 0.025\n",
            " Average Recall     (AR) @[ IoU=0.50:0.95 | area=   all | maxDets= 10 ] = 0.028\n",
            " Average Recall     (AR) @[ IoU=0.50:0.95 | area=   all | maxDets=100 ] = 0.028\n",
            " Average Recall     (AR) @[ IoU=0.50:0.95 | area= small | maxDets=100 ] = 0.000\n",
            " Average Recall     (AR) @[ IoU=0.50:0.95 | area=medium | maxDets=100 ] = 0.001\n",
            " Average Recall     (AR) @[ IoU=0.50:0.95 | area= large | maxDets=100 ] = 0.035\n"
          ]
        }
      ]
    },
    {
      "cell_type": "markdown",
      "metadata": {
        "id": "O_hffNPAabZK"
      },
      "source": [
        "#***CODICI DI PROVA***"
      ]
    },
    {
      "cell_type": "code",
      "execution_count": null,
      "metadata": {
        "id": "uCOzgGTTOFME"
      },
      "outputs": [],
      "source": [
        "import matplotlib.pyplot as plt\n",
        "import matplotlib.patches as patches\n",
        "from PIL import Image\n",
        "\n",
        "def drawBoxes(image, boxes):\n",
        "    image = image.to('cpu')\n",
        "    boxes = boxes.to('cpu')\n",
        "    plt.clf()\n",
        "    im = torchvision.transforms.ToPILImage()(image)\n",
        "    # Create figure and axes\n",
        "    fig, ax = plt.subplots()\n",
        "    ax.imshow(im)\n",
        "    for box in boxes:\n",
        "        box = box.detach().numpy()\n",
        "        x = box[0]\n",
        "        y = box[1]\n",
        "        w = box[2]-box[0]\n",
        "        h = box[3]-box[1]\n",
        "        rect = patches.Rectangle((x, y), w, h, linewidth=1, edgecolor='r', facecolor='none')\n",
        "        ax.add_patch(rect)\n",
        "    plt.show()"
      ]
    }
  ],
  "metadata": {
    "colab": {
      "provenance": [],
      "gpuType": "T4",
      "include_colab_link": true
    },
    "kernelspec": {
      "display_name": "Python 3",
      "name": "python3"
    },
    "language_info": {
      "codemirror_mode": {
        "name": "ipython",
        "version": 3
      },
      "file_extension": ".py",
      "mimetype": "text/x-python",
      "name": "python",
      "nbconvert_exporter": "python",
      "pygments_lexer": "ipython3",
      "version": "3.10.5"
    },
    "accelerator": "GPU"
  },
  "nbformat": 4,
  "nbformat_minor": 0
}