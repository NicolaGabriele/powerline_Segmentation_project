{
 "cells": [
  {
   "cell_type": "code",
   "execution_count": null,
   "id": "e283f149-a2c1-4242-932c-9bd056029411",
   "metadata": {},
   "outputs": [],
   "source": [
    "import ..."
   ]
  },
  {
   "cell_type": "code",
   "execution_count": null,
   "id": "c7f2416c-0e77-47d3-a397-ad95477d655c",
   "metadata": {},
   "outputs": [],
   "source": [
    "DATASET_FOLDER = '/tmp/testset'"
   ]
  },
  {
   "cell_type": "code",
   "execution_count": null,
   "id": "345b85cf-8ecb-4321-bf4f-5b48ee28c4f6",
   "metadata": {},
   "outputs": [],
   "source": [
    "... code ..."
   ]
  },
  {
   "cell_type": "code",
   "execution_count": null,
   "id": "e7931528-632c-4ae3-9498-8c9b760d3296",
   "metadata": {},
   "outputs": [],
   "source": [
    "... code ..."
   ]
  },
  {
   "cell_type": "code",
   "execution_count": null,
   "id": "b753f76a-7303-49cc-804e-3277e83ecb2b",
   "metadata": {},
   "outputs": [],
   "source": [
    "... code ..."
   ]
  },
  {
   "cell_type": "code",
   "execution_count": null,
   "id": "0e99a829-2fcd-460a-8655-093f89bee06a",
   "metadata": {
    "tags": []
   },
   "outputs": [],
   "source": [
    "!pip install pycocotools"
   ]
  },
  {
   "cell_type": "markdown",
   "id": "77e6dfd2-bce6-4115-8c39-8421431fb16e",
   "metadata": {},
   "source": [
    "# Generate output json"
   ]
  },
  {
   "cell_type": "code",
   "execution_count": null,
   "id": "d3c97daa-a958-46ec-905d-d8c3b54fba8e",
   "metadata": {},
   "outputs": [],
   "source": [
    "# PSEUDO CODE FOR A GENERIC MODEL!!!\n",
    "results = []\n",
    "\n",
    "for image_data in dataloader:\n",
    "    inputs = image_data['inputs']\n",
    "    classes, scores, boxes, masks = model(inputs)\n",
    "\n",
    "    classes = classes.cpu().numpy()\n",
    "    scores = scores.cpu().numpy()\n",
    "    boxes = boxes.view(-1, 4).cpu().numpy()\n",
    "    masks = masks.view(-1, h, w).cpu().numpy()\n",
    "    for i in range(masks.shape[0]):\n",
    "        image_id = image_data[i]['image_id']\n",
    "\n",
    "        # box defined as (x1, y1, x2, y2)\n",
    "        bbox = boxes[i]\n",
    "        bbox = [bbox[0], bbox[1], bbox[2]-bbox[0], bbox[3]-bbox[1]]\n",
    "        # Round to the nearest 10th to avoid huge file sizes, as COCO suggests\n",
    "        bbox = [round(float(x)*10)/10 for x in bbox]\n",
    "\n",
    "        rle = pycocotools.mask.encode(np.asfortranarray(masks[i].astype(np.uint8)))\n",
    "        rle['counts'] = rle['counts'].decode('ascii') # json.dump doesn't like bytes strings\n",
    "\n",
    "        results.append({\n",
    "                'image_id': int(image_id),\n",
    "                'category_id': get_coco_category(int(classes[i])),\n",
    "                'bbox': bbox,\n",
    "                'segmentation': rle,\n",
    "                'score': float(scores[i])\n",
    "            })\n",
    "    \n",
    "# save file\n",
    "with open('pred.json', 'w') as fp:\n",
    "    json.dump(results, fp)"
   ]
  },
  {
   "cell_type": "markdown",
   "id": "6db733eb-6261-4fa6-bd28-2b0bc3f4270b",
   "metadata": {},
   "source": [
    "# Compute metrics"
   ]
  },
  {
   "cell_type": "code",
   "execution_count": 1,
   "id": "3e1c7063-c997-4c2f-83bb-8f9c995aadf0",
   "metadata": {},
   "outputs": [],
   "source": [
    "import json\n",
    "from pycocotools.coco import COCO\n",
    "from pycocotools.cocoeval import COCOeval"
   ]
  },
  {
   "cell_type": "code",
   "execution_count": 2,
   "id": "f7d08cd5-e042-4372-a654-22cd32cd4d86",
   "metadata": {},
   "outputs": [
    {
     "name": "stdout",
     "output_type": "stream",
     "text": [
      "loading annotations into memory...\n",
      "Done (t=0.07s)\n",
      "creating index...\n",
      "index created!\n"
     ]
    },
    {
     "data": {
      "text/plain": [
       "{0: {'supercategory': 'cable', 'id': 0, 'name': 'cable'},\n",
       " 1: {'supercategory': 'tower_lattice', 'id': 1, 'name': 'tower_lattice'},\n",
       " 2: {'supercategory': 'tower_tucohy', 'id': 2, 'name': 'tower_tucohy'},\n",
       " 3: {'supercategory': 'tower_wooden', 'id': 3, 'name': 'tower_wooden'}}"
      ]
     },
     "execution_count": 2,
     "metadata": {},
     "output_type": "execute_result"
    }
   ],
   "source": [
    "test = '/corso_analisi_immagini_2023_2024/lezioni/test.json'\n",
    "\n",
    "gt = COCO(test)\n",
    "\n",
    "gt.cats"
   ]
  },
  {
   "cell_type": "code",
   "execution_count": 3,
   "id": "44fc0999-eac8-4dc5-8f19-74ee027a694e",
   "metadata": {},
   "outputs": [
    {
     "name": "stdout",
     "output_type": "stream",
     "text": [
      "loading annotations into memory...\n",
      "Done (t=0.07s)\n",
      "creating index...\n",
      "index created!\n",
      "Loading and preparing results...\n",
      "DONE (t=0.14s)\n",
      "creating index...\n",
      "index created!\n"
     ]
    },
    {
     "data": {
      "text/plain": [
       "{0: {'supercategory': 'cable', 'id': 0, 'name': 'cable'},\n",
       " 1: {'supercategory': 'tower_lattice', 'id': 1, 'name': 'tower_lattice'},\n",
       " 2: {'supercategory': 'tower_tucohy', 'id': 2, 'name': 'tower_tucohy'},\n",
       " 3: {'supercategory': 'tower_wooden', 'id': 3, 'name': 'tower_wooden'}}"
      ]
     },
     "execution_count": 3,
     "metadata": {},
     "output_type": "execute_result"
    }
   ],
   "source": [
    "gt = COCO(test)\n",
    "detections = gt.loadRes('/corso_analisi_immagini_2023_2024/lezioni/bbox_detections.json')\n",
    "\n",
    "detections.cats"
   ]
  },
  {
   "cell_type": "code",
   "execution_count": 4,
   "id": "d067c05e-8ad7-45b0-b44a-6105e81f0e1e",
   "metadata": {},
   "outputs": [
    {
     "name": "stdout",
     "output_type": "stream",
     "text": [
      "Running per image evaluation...\n",
      "Evaluate annotation type *bbox*\n",
      "DONE (t=3.23s).\n",
      "Accumulating evaluation results...\n",
      "DONE (t=0.40s).\n",
      " Average Precision  (AP) @[ IoU=0.50:0.95 | area=   all | maxDets=100 ] = 0.239\n",
      " Average Precision  (AP) @[ IoU=0.50      | area=   all | maxDets=100 ] = 0.460\n",
      " Average Precision  (AP) @[ IoU=0.75      | area=   all | maxDets=100 ] = 0.238\n",
      " Average Precision  (AP) @[ IoU=0.50:0.95 | area= small | maxDets=100 ] = 0.177\n",
      " Average Precision  (AP) @[ IoU=0.50:0.95 | area=medium | maxDets=100 ] = 0.187\n",
      " Average Precision  (AP) @[ IoU=0.50:0.95 | area= large | maxDets=100 ] = 0.318\n",
      " Average Recall     (AR) @[ IoU=0.50:0.95 | area=   all | maxDets=  1 ] = 0.221\n",
      " Average Recall     (AR) @[ IoU=0.50:0.95 | area=   all | maxDets= 10 ] = 0.319\n",
      " Average Recall     (AR) @[ IoU=0.50:0.95 | area=   all | maxDets=100 ] = 0.333\n",
      " Average Recall     (AR) @[ IoU=0.50:0.95 | area= small | maxDets=100 ] = 0.224\n",
      " Average Recall     (AR) @[ IoU=0.50:0.95 | area=medium | maxDets=100 ] = 0.269\n",
      " Average Recall     (AR) @[ IoU=0.50:0.95 | area= large | maxDets=100 ] = 0.491\n"
     ]
    }
   ],
   "source": [
    "# running evaluation\n",
    "annType = 'bbox'\n",
    "cocoEval = COCOeval(gt, detections, annType)\n",
    "#cocoEval.params.imgIds  = imgIds\n",
    "cocoEval.evaluate()\n",
    "cocoEval.accumulate()\n",
    "cocoEval.summarize()"
   ]
  },
  {
   "cell_type": "code",
   "execution_count": 5,
   "id": "7b348631-ee79-43e5-b09f-8311b6c7851d",
   "metadata": {},
   "outputs": [
    {
     "name": "stdout",
     "output_type": "stream",
     "text": [
      "Loading and preparing results...\n",
      "DONE (t=0.47s)\n",
      "creating index...\n",
      "index created!\n",
      "Running per image evaluation...\n",
      "Evaluate annotation type *segm*\n",
      "DONE (t=3.70s).\n",
      "Accumulating evaluation results...\n",
      "DONE (t=0.44s).\n",
      " Average Precision  (AP) @[ IoU=0.50:0.95 | area=   all | maxDets=100 ] = 0.189\n",
      " Average Precision  (AP) @[ IoU=0.50      | area=   all | maxDets=100 ] = 0.344\n",
      " Average Precision  (AP) @[ IoU=0.75      | area=   all | maxDets=100 ] = 0.174\n",
      " Average Precision  (AP) @[ IoU=0.50:0.95 | area= small | maxDets=100 ] = 0.027\n",
      " Average Precision  (AP) @[ IoU=0.50:0.95 | area=medium | maxDets=100 ] = 0.110\n",
      " Average Precision  (AP) @[ IoU=0.50:0.95 | area= large | maxDets=100 ] = 0.368\n",
      " Average Recall     (AR) @[ IoU=0.50:0.95 | area=   all | maxDets=  1 ] = 0.206\n",
      " Average Recall     (AR) @[ IoU=0.50:0.95 | area=   all | maxDets= 10 ] = 0.263\n",
      " Average Recall     (AR) @[ IoU=0.50:0.95 | area=   all | maxDets=100 ] = 0.265\n",
      " Average Recall     (AR) @[ IoU=0.50:0.95 | area= small | maxDets=100 ] = 0.039\n",
      " Average Recall     (AR) @[ IoU=0.50:0.95 | area=medium | maxDets=100 ] = 0.202\n",
      " Average Recall     (AR) @[ IoU=0.50:0.95 | area= large | maxDets=100 ] = 0.482\n"
     ]
    }
   ],
   "source": [
    "# running evaluation\n",
    "annType = 'segm'\n",
    "detections = gt.loadRes('/corso_analisi_immagini_2023_2024/lezioni/mask_detections.json')\n",
    "cocoEval = COCOeval(gt, detections, annType)\n",
    "#cocoEval.params.imgIds  = imgIds\n",
    "cocoEval.evaluate()\n",
    "cocoEval.accumulate()\n",
    "cocoEval.summarize()"
   ]
  },
  {
   "cell_type": "code",
   "execution_count": 8,
   "id": "a3b893c7-742e-4a06-864f-d18f54c23fdc",
   "metadata": {},
   "outputs": [
    {
     "name": "stdout",
     "output_type": "stream",
     "text": [
      "<class 'list'> 30269\n"
     ]
    },
    {
     "data": {
      "text/plain": [
       "{'image_id': 0,\n",
       " 'category_id': 0,\n",
       " 'bbox': [291.0, 40.0, 86.0, 653.0],\n",
       " 'score': 0.3679635524749756}"
      ]
     },
     "execution_count": 8,
     "metadata": {},
     "output_type": "execute_result"
    }
   ],
   "source": [
    "\n",
    "with open('/corso_analisi_immagini_2023_2024/lezioni/bbox_detections.json') as fp_src:\n",
    "    data = json.load(fp_src)\n",
    "    \n",
    "print(type(data), len(data))\n",
    "data[0]"
   ]
  },
  {
   "cell_type": "code",
   "execution_count": 7,
   "id": "5a37d60a-bcd4-4d71-aa20-104d9e8e42a1",
   "metadata": {},
   "outputs": [
    {
     "name": "stdout",
     "output_type": "stream",
     "text": [
      "<class 'list'> 30269\n"
     ]
    },
    {
     "data": {
      "text/plain": [
       "{'image_id': 0,\n",
       " 'category_id': 0,\n",
       " 'segmentation': {'size': [700, 700],\n",
       "  'counts': 'kUj68_e08i\\\\1OScN4W]10ebN4oR2CeZO6`bN3j\\\\1OQ]N@lFa0_l19_bN2n\\\\1E\\\\cN0hV1FPZNe0a8[O`Gf0Qe1DQ[N7V8HlG7Se1NlZN;h7EYH;oU1ZOlQOa0WH0c7M`H0nn0BkQOLe6f0dH4R7LoH3^7_OQI4Z73^H4n64lH0Q7MRI0Sd1FjjNGe\\\\1>WcNESbi6'},\n",
       " 'score': 0.3679635524749756}"
      ]
     },
     "execution_count": 7,
     "metadata": {},
     "output_type": "execute_result"
    }
   ],
   "source": [
    "\n",
    "with open('/corso_analisi_immagini_2023_2024/lezioni/mask_detections.json') as fp_src:\n",
    "    data = json.load(fp_src)\n",
    "    \n",
    "print(type(data), len(data))\n",
    "data[0]"
   ]
  }
 ],
 "metadata": {
  "kernelspec": {
   "display_name": "Python 3",
   "language": "python",
   "name": "python3"
  },
  "language_info": {
   "codemirror_mode": {
    "name": "ipython",
    "version": 3
   },
   "file_extension": ".py",
   "mimetype": "text/x-python",
   "name": "python",
   "nbconvert_exporter": "python",
   "pygments_lexer": "ipython3",
   "version": "3.8.2"
  }
 },
 "nbformat": 4,
 "nbformat_minor": 5
}
